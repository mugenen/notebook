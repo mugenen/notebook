{
  "nbformat": 4,
  "nbformat_minor": 0,
  "metadata": {
    "colab": {
      "name": "東京の新型コロナウイルス感染者数の下一桁の分布",
      "provenance": [],
      "authorship_tag": "ABX9TyPy2GsOYNs//29TKOFauKwB",
      "include_colab_link": true
    },
    "kernelspec": {
      "name": "python3",
      "display_name": "Python 3"
    },
    "language_info": {
      "name": "python"
    }
  },
  "cells": [
    {
      "cell_type": "markdown",
      "metadata": {
        "id": "view-in-github",
        "colab_type": "text"
      },
      "source": [
        "<a href=\"https://colab.research.google.com/github/mugenen/notebook/blob/master/%E6%9D%B1%E4%BA%AC%E3%81%AE%E6%96%B0%E5%9E%8B%E3%82%B3%E3%83%AD%E3%83%8A%E3%82%A6%E3%82%A4%E3%83%AB%E3%82%B9%E6%84%9F%E6%9F%93%E8%80%85%E6%95%B0%E3%81%AE%E4%B8%8B%E4%B8%80%E6%A1%81%E3%81%AE%E5%88%86%E5%B8%83.ipynb\" target=\"_parent\"><img src=\"https://colab.research.google.com/assets/colab-badge.svg\" alt=\"Open In Colab\"/></a>"
      ]
    },
    {
      "cell_type": "markdown",
      "metadata": {
        "id": "XaaReF7UyUg9"
      },
      "source": [
        "2021-07-30 の感染者数が3300人でキリがよかったので、キリがよい数字がどれぐらい出てるか気になった。\n",
        "とりあえず下一桁の数字がそれぞれどんな回数でてるか見てみる"
      ]
    },
    {
      "cell_type": "markdown",
      "metadata": {
        "id": "e7888RZgyrnn"
      },
      "source": [
        "# import など"
      ]
    },
    {
      "cell_type": "code",
      "metadata": {
        "colab": {
          "base_uri": "https://localhost:8080/"
        },
        "id": "rYNRZHstXDxz",
        "outputId": "85747f1c-0332-42a2-b3cd-52d3a078c052"
      },
      "source": [
        "!pip install japanize-matplotlib"
      ],
      "execution_count": 1,
      "outputs": [
        {
          "output_type": "stream",
          "text": [
            "Collecting japanize-matplotlib\n",
            "  Downloading japanize-matplotlib-1.1.3.tar.gz (4.1 MB)\n",
            "\u001b[K     |████████████████████████████████| 4.1 MB 7.7 MB/s \n",
            "\u001b[?25hRequirement already satisfied: matplotlib in /usr/local/lib/python3.7/dist-packages (from japanize-matplotlib) (3.2.2)\n",
            "Requirement already satisfied: cycler>=0.10 in /usr/local/lib/python3.7/dist-packages (from matplotlib->japanize-matplotlib) (0.10.0)\n",
            "Requirement already satisfied: numpy>=1.11 in /usr/local/lib/python3.7/dist-packages (from matplotlib->japanize-matplotlib) (1.19.5)\n",
            "Requirement already satisfied: kiwisolver>=1.0.1 in /usr/local/lib/python3.7/dist-packages (from matplotlib->japanize-matplotlib) (1.3.1)\n",
            "Requirement already satisfied: python-dateutil>=2.1 in /usr/local/lib/python3.7/dist-packages (from matplotlib->japanize-matplotlib) (2.8.1)\n",
            "Requirement already satisfied: pyparsing!=2.0.4,!=2.1.2,!=2.1.6,>=2.0.1 in /usr/local/lib/python3.7/dist-packages (from matplotlib->japanize-matplotlib) (2.4.7)\n",
            "Requirement already satisfied: six in /usr/local/lib/python3.7/dist-packages (from cycler>=0.10->matplotlib->japanize-matplotlib) (1.15.0)\n",
            "Building wheels for collected packages: japanize-matplotlib\n",
            "  Building wheel for japanize-matplotlib (setup.py) ... \u001b[?25l\u001b[?25hdone\n",
            "  Created wheel for japanize-matplotlib: filename=japanize_matplotlib-1.1.3-py3-none-any.whl size=4120274 sha256=2ba99eff47bc2aa4c6879d0bde1a97474c6af03f6e031c89d7486a505e1dd049\n",
            "  Stored in directory: /root/.cache/pip/wheels/83/97/6b/e9e0cde099cc40f972b8dd23367308f7705ae06cd6d4714658\n",
            "Successfully built japanize-matplotlib\n",
            "Installing collected packages: japanize-matplotlib\n",
            "Successfully installed japanize-matplotlib-1.1.3\n"
          ],
          "name": "stdout"
        }
      ]
    },
    {
      "cell_type": "code",
      "metadata": {
        "id": "0kBZln4jQPwS"
      },
      "source": [
        "import pandas as pd\n",
        "import collections\n",
        "import scipy.stats\n",
        "import matplotlib.pyplot as plt\n",
        "import japanize_matplotlib"
      ],
      "execution_count": 2,
      "outputs": []
    },
    {
      "cell_type": "markdown",
      "metadata": {
        "id": "jYDsPmweX2iQ"
      },
      "source": [
        "#東京の感染者の情報のCSVをダウンロード\n",
        "https://catalog.data.metro.tokyo.lg.jp/dataset/t000010d0000000068/resource/c2d997db-1450-43fa-8037-ebb11ec28d4c"
      ]
    },
    {
      "cell_type": "code",
      "metadata": {
        "colab": {
          "base_uri": "https://localhost:8080/"
        },
        "id": "sF3AYlfRQKL4",
        "outputId": "69bfd1fe-1113-4be6-d990-bbe3259350fa"
      },
      "source": [
        "!wget https://stopcovid19.metro.tokyo.lg.jp/data/130001_tokyo_covid19_patients.csv"
      ],
      "execution_count": 3,
      "outputs": [
        {
          "output_type": "stream",
          "text": [
            "--2021-07-31 14:41:38--  https://stopcovid19.metro.tokyo.lg.jp/data/130001_tokyo_covid19_patients.csv\n",
            "Resolving stopcovid19.metro.tokyo.lg.jp (stopcovid19.metro.tokyo.lg.jp)... 138.68.61.186, 184.72.37.151, 2604:a880:2:d0::20b2:9001, ...\n",
            "Connecting to stopcovid19.metro.tokyo.lg.jp (stopcovid19.metro.tokyo.lg.jp)|138.68.61.186|:443... connected.\n",
            "HTTP request sent, awaiting response... 200 OK\n",
            "Length: 18488165 (18M) [text/csv]\n",
            "Saving to: ‘130001_tokyo_covid19_patients.csv’\n",
            "\n",
            "130001_tokyo_covid1 100%[===================>]  17.63M  58.5MB/s    in 0.3s    \n",
            "\n",
            "2021-07-31 14:41:38 (58.5 MB/s) - ‘130001_tokyo_covid19_patients.csv’ saved [18488165/18488165]\n",
            "\n"
          ],
          "name": "stdout"
        }
      ]
    },
    {
      "cell_type": "markdown",
      "metadata": {
        "id": "xIIolw2yYASQ"
      },
      "source": [
        "# CSV を読んでカウント\n",
        "2021-01-01以降のデータだけ使う"
      ]
    },
    {
      "cell_type": "code",
      "metadata": {
        "id": "D5FOOqd-QSvO"
      },
      "source": [
        "df = pd.read_csv('130001_tokyo_covid19_patients.csv')"
      ],
      "execution_count": 4,
      "outputs": []
    },
    {
      "cell_type": "code",
      "metadata": {
        "colab": {
          "base_uri": "https://localhost:8080/"
        },
        "id": "Cg6exs4lQga3",
        "outputId": "4ba49415-f6d4-4cc6-db06-38bbdd66ffad"
      },
      "source": [
        "daily_count = df.groupby('公表_年月日').size().loc['2021-01-01':]\n",
        "daily_count"
      ],
      "execution_count": 5,
      "outputs": [
        {
          "output_type": "execute_result",
          "data": {
            "text/plain": [
              "公表_年月日\n",
              "2021-01-01     793\n",
              "2021-01-02     829\n",
              "2021-01-03     826\n",
              "2021-01-04     905\n",
              "2021-01-05    1315\n",
              "              ... \n",
              "2021-07-27    2848\n",
              "2021-07-28    3177\n",
              "2021-07-29    3865\n",
              "2021-07-30    3300\n",
              "2021-07-31    4058\n",
              "Length: 212, dtype: int64"
            ]
          },
          "metadata": {
            "tags": []
          },
          "execution_count": 5
        }
      ]
    },
    {
      "cell_type": "markdown",
      "metadata": {
        "id": "pmaoUW1TYHpy"
      },
      "source": [
        "# 下一桁ごとにカウント"
      ]
    },
    {
      "cell_type": "code",
      "metadata": {
        "id": "4ynkXbqWTVqB"
      },
      "source": [
        "count_sorted = daily_count.map(lambda x: x % 10).value_counts().sort_index()"
      ],
      "execution_count": 6,
      "outputs": []
    },
    {
      "cell_type": "markdown",
      "metadata": {
        "id": "tqoxoVMiYPI3"
      },
      "source": [
        "# 下一桁ごとの分布を可視化"
      ]
    },
    {
      "cell_type": "code",
      "metadata": {
        "colab": {
          "base_uri": "https://localhost:8080/",
          "height": 279
        },
        "id": "HwqeSyLEOnl6",
        "outputId": "0068bd71-dbba-410a-a5cc-71647e3532ed"
      },
      "source": [
        "plt.figure(facecolor='white')\n",
        "plt.bar(range(len(count_sorted)), count_sorted) # カウントが0のやつがあると10個に分かれなくておかしくなるけどそこは無視する\n",
        "plt.xticks(range(len(count_sorted)))\n",
        "plt.title('東京の感染者数の下一桁のカウント')\n",
        "plt.show()"
      ],
      "execution_count": 7,
      "outputs": [
        {
          "output_type": "display_data",
          "data": {
            "image/png": "[encoded data removed]",
            "text/plain": [
              "<Figure size 432x288 with 1 Axes>"
            ]
          },
          "metadata": {
            "tags": []
          }
        }
      ]
    },
    {
      "cell_type": "markdown",
      "metadata": {
        "id": "ldQsZuM7YVPU"
      },
      "source": [
        "# カイ二乗検定をする\n",
        "どの数字も同じ割合で出るものと考えて検定をしてみる\n",
        "\n",
        "https://docs.scipy.org/doc/scipy/reference/generated/scipy.stats.chisquare.html"
      ]
    },
    {
      "cell_type": "code",
      "metadata": {
        "colab": {
          "base_uri": "https://localhost:8080/"
        },
        "id": "8aP91k7RPNBz",
        "outputId": "cd168402-c0e0-4312-aa4f-8526cd8e1e7a"
      },
      "source": [
        " scipy.stats.chisquare(count_sorted)"
      ],
      "execution_count": 8,
      "outputs": [
        {
          "output_type": "execute_result",
          "data": {
            "text/plain": [
              "Power_divergenceResult(statistic=13.471698113207548, pvalue=0.14239790466589164)"
            ]
          },
          "metadata": {
            "tags": []
          },
          "execution_count": 8
        }
      ]
    },
    {
      "cell_type": "markdown",
      "metadata": {
        "id": "ISaUFD5Ram90"
      },
      "source": [
        "p値が0.14なので帰無仮説は棄却されない(有意水準0.05だとして)"
      ]
    },
    {
      "cell_type": "code",
      "metadata": {
        "id": "bsLF5oJnOyQU"
      },
      "source": [
        ""
      ],
      "execution_count": 8,
      "outputs": []
    }
  ]
}